{
 "cells": [
  {
   "cell_type": "markdown",
   "metadata": {},
   "source": [
    "\n",
    "# Python Intrductory Guide\n",
    "\n"
   ]
  },
  {
   "cell_type": "code",
   "execution_count": 6,
   "metadata": {},
   "outputs": [
    {
     "name": "stdout",
     "output_type": "stream",
     "text": [
      "Hello, Husnain\n"
     ]
    }
   ],
   "source": [
    "name = input(\"What is your name?\")\n",
    "print (\"Hello, \" + name)  "
   ]
  },
  {
   "cell_type": "markdown",
   "metadata": {},
   "source": [
    "# Fundamental Data Types"
   ]
  },
  {
   "cell_type": "code",
   "execution_count": 7,
   "metadata": {},
   "outputs": [
    {
     "name": "stdout",
     "output_type": "stream",
     "text": [
      "8\n",
      "<class 'int'>\n",
      "<class 'float'>\n",
      "16\n",
      "2\n",
      "1\n",
      "\n",
      "How are you?\n",
      "o  o\n",
      "____  \n",
      "Husnain\n"
     ]
    },
    {
     "data": {
      "text/plain": [
       "dict"
      ]
     },
     "execution_count": 7,
     "metadata": {},
     "output_type": "execute_result"
    }
   ],
   "source": [
    "\n",
    "#int and #float--- Integers and Decimals\n",
    "print (2 * 4)\n",
    "#to see data types use\n",
    "print(type(4 + 2)) #int\n",
    "print(type(6 / 3)) #float---as 2.0 decimel \n",
    "print (2 ** 4) #2^4 power of integer\n",
    "print (5 // 2) #division answer roundedoff to integer\n",
    "print (5 % 2) #modulo is remainder of divison\n",
    "complex\n",
    "bin\n",
    "bool\n",
    "str\n",
    "greet = '''\n",
    "How are you?\n",
    "o  o\n",
    "____  \n",
    "''' + name\n",
    "print(greet)\n",
    " \n",
    "list\n",
    "tuple\n",
    "set\n",
    "dict\n"
   ]
  },
  {
   "cell_type": "markdown",
   "metadata": {},
   "source": [
    "# string concetenation\n"
   ]
  },
  {
   "cell_type": "code",
   "execution_count": 8,
   "metadata": {},
   "outputs": [
    {
     "name": "stdout",
     "output_type": "stream",
     "text": [
      "mercedes benz\n"
     ]
    }
   ],
   "source": [
    "goodcar = ('mercedes ' + 'benz')\n",
    "carnumber = (\"mercedes\" )\n",
    "print(goodcar)"
   ]
  },
  {
   "cell_type": "markdown",
   "metadata": {},
   "source": [
    "# math function"
   ]
  },
  {
   "cell_type": "code",
   "execution_count": 9,
   "metadata": {},
   "outputs": [
    {
     "name": "stdout",
     "output_type": "stream",
     "text": [
      "4\n",
      "20\n"
     ]
    }
   ],
   "source": [
    "print (round(3.69)) #roundoff\n",
    "print (abs(-20)) #returns absolute number(no negative number)"
   ]
  },
  {
   "cell_type": "markdown",
   "metadata": {},
   "source": [
    "# type Conversion\n"
   ]
  },
  {
   "cell_type": "code",
   "execution_count": 10,
   "metadata": {},
   "outputs": [
    {
     "name": "stdout",
     "output_type": "stream",
     "text": [
      "<class 'str'>\n",
      "<class 'int'>\n"
     ]
    }
   ],
   "source": [
    "print(type(str(100))) #int 100 converted to string\n",
    "print(type(int(str(100)))) #into 100 converted to string, then again to int"
   ]
  },
  {
   "cell_type": "markdown",
   "metadata": {},
   "source": [
    "# escape sequence\n"
   ]
  },
  {
   "cell_type": "code",
   "execution_count": null,
   "metadata": {},
   "outputs": [],
   "source": [
    "print(str(\" \\t It\\'s a good \\'type\\' of weather. \\nIs it?\"))   #\\t ----tab ,  \\n ----newline,  \\' ---- apostrophy"
   ]
  },
  {
   "cell_type": "markdown",
   "metadata": {},
   "source": [
    "# formatted sequences"
   ]
  },
  {
   "cell_type": "code",
   "execution_count": 11,
   "metadata": {},
   "outputs": [
    {
     "name": "stdout",
     "output_type": "stream",
     "text": [
      "Hi,Jhon. You are 55 year's old\n",
      "Hi, Jhon you are 55 year's old.\n",
      "Hi, Jhon you are 55 year's old.\n"
     ]
    }
   ],
   "source": [
    "username = 'Jhon'\n",
    "age = 55\n",
    "print ('Hi,' + username + '. You are ' + str(age) + ' year\\'s old') \n",
    "# ^ this can be written in formatted sequence as \n",
    "print (f'Hi, {username} you are {age} year\\'s old.')       #best way of writing is into formatted sequence\n",
    "#can also be written as                            0      1\n",
    "print ('Hi, {1} you are {0} year\\'s old.'.format(age, username)) # can also be written in this form"
   ]
  },
  {
   "cell_type": "markdown",
   "metadata": {},
   "source": [
    "# string indexes -------immutable(cannot reasssign)\n"
   ]
  },
  {
   "cell_type": "code",
   "execution_count": 4,
   "metadata": {},
   "outputs": [
    {
     "name": "stdout",
     "output_type": "stream",
     "text": [
      "m\n",
      " me\n"
     ]
    }
   ],
   "source": [
    "selfish = \"me me me\"\n",
    "        #   01234567\n",
    "print(selfish[3]) #so this will print m\n",
    "        # [start:stop]\n",
    "print(selfish[2:5])\n"
   ]
  },
  {
   "cell_type": "markdown",
   "metadata": {},
   "source": [
    "# string slicing\n"
   ]
  },
  {
   "cell_type": "code",
   "execution_count": 5,
   "metadata": {},
   "outputs": [
    {
     "name": "stdout",
     "output_type": "stream",
     "text": [
      "024\n",
      "147\n"
     ]
    }
   ],
   "source": [
    "stepover = \"0123456789\"        \n",
    "        #   0123456789\n",
    "        #[start:stop:stepover]\n",
    "print(stepover[0:6:2])  #skip on to every second string starting from 0\n",
    "print(stepover[1:9:3])  #skip on to every third string starting from 1"
   ]
  },
  {
   "cell_type": "markdown",
   "metadata": {},
   "source": [
    "# reverse the string \"selfish\" and \"stepover\""
   ]
  },
  {
   "cell_type": "code",
   "execution_count": 6,
   "metadata": {},
   "outputs": [
    {
     "name": "stdout",
     "output_type": "stream",
     "text": [
      "em em em\n",
      "9876543210\n"
     ]
    }
   ],
   "source": [
    "#reverse the string selfish and stepover\n",
    "print(selfish[::-1])\n",
    "print(stepover[::-1])"
   ]
  },
  {
   "cell_type": "markdown",
   "metadata": {},
   "source": [
    "# Immutability"
   ]
  },
  {
   "cell_type": "code",
   "execution_count": 7,
   "metadata": {},
   "outputs": [
    {
     "name": "stdout",
     "output_type": "stream",
     "text": [
      "012345678969\n",
      "12\n",
      "0123456\n",
      "ME ME ME\n",
      "Me me me\n",
      "1\n",
      "9\n",
      "you you you\n"
     ]
    }
   ],
   "source": [
    "\n",
    "#We cannot reassign/edit a particular index on a string we have to reassign the whole string\n",
    "#But we can add another index into the string e.g\n",
    "stepover = stepover + \"69\"\n",
    "print(stepover)\n",
    "\n",
    "#length of string\n",
    "print(len(stepover))\n",
    "\n",
    "#print to a specific length\n",
    "print(stepover[0:7])\n",
    "\n",
    "#upper case the letters\n",
    "print(selfish.upper())\n",
    "\n",
    "#capitilize the first letter\n",
    "print(selfish.capitalize())\n",
    "\n",
    "#find if me exist in selfish\n",
    "print(selfish.find('e'))  #output will tell us that e is located in following index\n",
    "#find if 9 exist in stepover\n",
    "print(stepover.find('9'))  \n",
    "\n",
    "#replace me with you (in replace we are not reassigning the value to same string but making a new string with replacement value)\n",
    "print(selfish.replace('me','you'))"
   ]
  },
  {
   "cell_type": "markdown",
   "metadata": {},
   "source": [
    "# type conversion\n"
   ]
  },
  {
   "cell_type": "code",
   "execution_count": 8,
   "metadata": {},
   "outputs": [
    {
     "name": "stdout",
     "output_type": "stream",
     "text": [
      "Your age is: 21\n",
      "Your age is: 21\n"
     ]
    }
   ],
   "source": [
    "birthdate = input(\"What year were you born? \")\n",
    "intbirthdate = int(birthdate)\n",
    "intage = 2020 - intbirthdate\n",
    "age = str(intage)\n",
    "print('Your age is: ' + age)\n",
    "\n",
    "#or can be coded as\n",
    "age = 2020 - int(birthdate)\n",
    "print(f'Your age is: {age}')"
   ]
  },
  {
   "cell_type": "markdown",
   "metadata": {},
   "source": [
    "# Augmented Assignment operator"
   ]
  },
  {
   "cell_type": "code",
   "execution_count": 10,
   "metadata": {},
   "outputs": [
    {
     "name": "stdout",
     "output_type": "stream",
     "text": [
      "140\n",
      "140\n"
     ]
    }
   ],
   "source": [
    "# for example\n",
    "iq = 120\n",
    "iq = iq + 20 # can also be written as iq += 20 \n",
    "print(iq)\n",
    "#something like this can also be written for aq as\n",
    "aq = 120\n",
    "aq += 20\n",
    "print(aq)\n",
    "\n",
    "#Custom Data types --- classes\n",
    "\n",
    "#Specialized Data types --- Modules"
   ]
  },
  {
   "cell_type": "markdown",
   "metadata": {},
   "source": [
    "# Password checker\n"
   ]
  },
  {
   "cell_type": "code",
   "execution_count": 11,
   "metadata": {},
   "outputs": [
    {
     "name": "stdout",
     "output_type": "stream",
     "text": [
      "Husnain , your password ********* is 9 long!\n"
     ]
    }
   ],
   "source": [
    "usersname = input('Give username: ')\n",
    "userpassword = input('Set password: ')\n",
    "passlength = len(userpassword)\n",
    "encryptedpass = '*' * passlength\n",
    "print(f'{usersname}, your password {encryptedpass} is {passlength} long!' )\n"
   ]
  },
  {
   "cell_type": "markdown",
   "metadata": {},
   "source": [
    "# list"
   ]
  },
  {
   "cell_type": "code",
   "execution_count": 12,
   "metadata": {},
   "outputs": [
    {
     "name": "stdout",
     "output_type": "stream",
     "text": [
      "a\n"
     ]
    }
   ],
   "source": [
    "\n",
    "#list  ----- form of arrays that we can get reassign(hence mutable) unlike strings   -----Data Struscture (container with multiple types of data types)\n",
    "examplelist = [1, 2.5, 'a', True]\n",
    "#arraryindex#  0   1    2    3\n",
    "print(examplelist[2])   #accessing purticular array index"
   ]
  },
  {
   "cell_type": "markdown",
   "metadata": {},
   "source": [
    "# list slicing"
   ]
  },
  {
   "cell_type": "code",
   "execution_count": 13,
   "metadata": {},
   "outputs": [
    {
     "name": "stdout",
     "output_type": "stream",
     "text": [
      "['Hands on ML book', 'Core i7']\n",
      "['Deeplearning book', 'Grapes', 'Core i7', 'toys', 'RTX Titan', 'bananas']\n",
      "['Grapes', 'bananas']\n",
      "['PapaPig book', 'Grapes', 'Core i7', 'toys', 'RTX Titan', 'bananas']\n"
     ]
    }
   ],
   "source": [
    "\n",
    "amazon_cart = ['Hands on ML book', 'Grapes', 'Core i7', 'toys', 'RTX Titan','bananas']\n",
    "print(amazon_cart[0:4:2])\n",
    "#reassigning value on index 0\n",
    "amazon_cart[0] = 'Deeplearning book'\n",
    "print(amazon_cart) \n",
    "#making new separate list for grapes and bananas ----must include [:] after the name of list you are making new one \n",
    "new1_cart = amazon_cart[1::4]  #upon reassigning value to this new1_cart list, this will not assign value to the amazon_cart  \n",
    "print(new1_cart)\n",
    "new2_cart = amazon_cart #this will reassign the values to orignal amazon_cart list because this doesnot have [:]\n",
    "new2_cart[0] = 'PapaPig book' \n",
    "print(new2_cart)"
   ]
  },
  {
   "cell_type": "markdown",
   "metadata": {},
   "source": [
    "# Matrix   \n",
    "MULTIDEMENTIONAL arrays or lists\n"
   ]
  },
  {
   "cell_type": "code",
   "execution_count": 14,
   "metadata": {},
   "outputs": [
    {
     "name": "stdout",
     "output_type": "stream",
     "text": [
      "6\n"
     ]
    }
   ],
   "source": [
    "\n",
    "gigi = [   #two dimentional in this example\n",
    "    [4,6,7],\n",
    "    [7,5,9],\n",
    "    [2,6,8]\n",
    "    ]\n",
    "print(gigi[2][1])  #printing specific index from matrice"
   ]
  },
  {
   "cell_type": "markdown",
   "metadata": {},
   "source": [
    "# .append()\n"
   ]
  },
  {
   "cell_type": "code",
   "execution_count": 31,
   "metadata": {},
   "outputs": [
    {
     "name": "stdout",
     "output_type": "stream",
     "text": [
      "[1, 2, 3, 4, 5, 6, 7]\n"
     ]
    }
   ],
   "source": [
    "# append ---  to add object to original data types' array but doesnot give any return None to new datatype \n",
    "basket = [1,2,3,4,5,6]\n",
    "#new1basket = basket.append(7) #this is wrong and it will result to none because append doesnot give any result(=None)\n",
    "#print(new1basket)                                # instead we should something like we have done at bottom\n",
    "basket.append(7)  #first add 7\n",
    "new1basket = basket #then create new \n",
    "print(new1basket)"
   ]
  },
  {
   "cell_type": "markdown",
   "metadata": {},
   "source": [
    "# .insert()"
   ]
  },
  {
   "cell_type": "code",
   "execution_count": 32,
   "metadata": {},
   "outputs": [
    {
     "name": "stdout",
     "output_type": "stream",
     "text": [
      "[1, 2, 3, 69, 4, 5, 6, 7]\n"
     ]
    }
   ],
   "source": [
    "# insert -----to insert/modify object to a specific index in array but doesnot out put any result to new datatype\n",
    "basket.insert(3, 69)\n",
    "print(basket)\n"
   ]
  },
  {
   "cell_type": "markdown",
   "metadata": {},
   "source": [
    "# .extend()"
   ]
  },
  {
   "cell_type": "code",
   "execution_count": 33,
   "metadata": {},
   "outputs": [
    {
     "name": "stdout",
     "output_type": "stream",
     "text": [
      "[1, 2, 3, 69, 4, 5, 6, 7, 67, 63]\n"
     ]
    }
   ],
   "source": [
    "# extend .... adds objects at the end and extends the list\n",
    "basket.extend([67, 63])\n",
    "print(basket)"
   ]
  },
  {
   "cell_type": "markdown",
   "metadata": {},
   "source": [
    "# .pop()"
   ]
  },
  {
   "cell_type": "code",
   "execution_count": 34,
   "metadata": {},
   "outputs": [
    {
     "name": "stdout",
     "output_type": "stream",
     "text": [
      "[1, 2, 3, 69, 4, 5, 6, 7, 63]\n"
     ]
    }
   ],
   "source": [
    "# pop----remove at indexvalue at specific index\n",
    "basket.pop(-2) #popping 67\n",
    "print(basket)"
   ]
  },
  {
   "cell_type": "markdown",
   "metadata": {},
   "source": [
    "# .remove() "
   ]
  },
  {
   "cell_type": "code",
   "execution_count": 35,
   "metadata": {},
   "outputs": [
    {
     "name": "stdout",
     "output_type": "stream",
     "text": [
      "[1, 2, 3, 69, 4, 5, 6, 7]\n"
     ]
    }
   ],
   "source": [
    "#remove ----specific value\n",
    "basket.remove(63)\n",
    "print(basket)\n"
   ]
  },
  {
   "cell_type": "markdown",
   "metadata": {},
   "source": [
    "# .index()"
   ]
  },
  {
   "cell_type": "code",
   "execution_count": 36,
   "metadata": {},
   "outputs": [
    {
     "name": "stdout",
     "output_type": "stream",
     "text": [
      "2\n"
     ]
    }
   ],
   "source": [
    "\n",
    "#index. -------finding index value of object stored in array\n",
    "print(basket.index(3,0,4))\n"
   ]
  },
  {
   "cell_type": "code",
   "execution_count": null,
   "metadata": {},
   "outputs": [],
   "source": [
    "#clear ---clear whole array\n",
    "basket.clear()\n",
    "print(basket)"
   ]
  }
 ],
 "metadata": {
  "kernelspec": {
   "display_name": "Python 3.10.2 64-bit",
   "language": "python",
   "name": "python3"
  },
  "language_info": {
   "codemirror_mode": {
    "name": "ipython",
    "version": 3
   },
   "file_extension": ".py",
   "mimetype": "text/x-python",
   "name": "python",
   "nbconvert_exporter": "python",
   "pygments_lexer": "ipython3",
   "version": "3.10.2"
  },
  "orig_nbformat": 4,
  "vscode": {
   "interpreter": {
    "hash": "a9cff5a362bc38ef45d817ae74b1af54d6a076e3d773891282bce078b815ba34"
   }
  }
 },
 "nbformat": 4,
 "nbformat_minor": 2
}
